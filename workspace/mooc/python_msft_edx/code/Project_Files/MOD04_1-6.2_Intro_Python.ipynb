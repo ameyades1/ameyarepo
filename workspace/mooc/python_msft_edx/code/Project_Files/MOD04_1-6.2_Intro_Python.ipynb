{
 "cells": [
  {
   "cell_type": "markdown",
   "metadata": {},
   "source": [
    "# 1-6.2 Intro Python\n",
    "## Nested Conditionals\n",
    "- nested conditionals  \n",
    "- **print formatting with the (\\) escape sequence** \n",
    "\n",
    "><font size=\"5\" color=\"#00A0B2\"  face=\"verdana\"> <B>Student will be able to</B></font>\n",
    "- create nested conditional logic in code  \n",
    "- **print format print using escape sequence (\\)**"
   ]
  },
  {
   "cell_type": "markdown",
   "metadata": {
    "collapsed": true
   },
   "source": [
    "\n",
    "# &nbsp;\n",
    "<font size=\"6\" color=\"#00A0B2\"  face=\"verdana\"> <B>Concept</B></font>\n",
    "## formatting with escape sequences\n",
    "[![view video](https://iajupyterprodblobs.blob.core.windows.net/imagecontainer/common/play_video.png)]( http://edxinteractivepage.blob.core.windows.net/edxpages/f7cff1a7-5601-48a1-95a6-fd1fdfabd20e.html?details=[{\"src\":\"http://jupyternootbookwams.streaming.mediaservices.windows.net/b64e53fd-eb3b-4383-8b5f-4da51fc881c5/Unit1_Section6.2-Escape-Sequences.ism/manifest\",\"type\":\"application/vnd.ms-sstr+xml\"}],[{\"src\":\"http://jupyternootbookwams.streaming.mediaservices.windows.net/b64e53fd-eb3b-4383-8b5f-4da51fc881c5/Unit1_Section6.2-Escape-Sequences.vtt\",\"srclang\":\"en\",\"kind\":\"subtitles\",\"label\":\"english\"}])\n",
    "### Escape Sequences\n",
    "- escape sequences all start with a backslash (**`\\`**) \n",
    "- escape sequences can be used to display characters in python reserved for formatting\n",
    "  - **`\\\\`** &nbsp; Backslash (**`\\`**)  \n",
    "  - **`\\'`** &nbsp; Single quote (**'**)  \n",
    "  - **`\\\"`** &nbsp; Double quote (**\"**)  \n",
    "\n",
    "\n",
    "- escape sequences are part of special formatting charcters\\n    Linefeed \n",
    "  - **`\\t`** &nbsp; Tab\n",
    "  - **`\\n`** &nbsp; return or newline\n",
    "\n",
    "We use escape sequences in strings - usually with `print()` statements "
   ]
  },
  {
   "cell_type": "markdown",
   "metadata": {},
   "source": [
    "# &nbsp;\n",
    "<font size=\"6\" color=\"#00A0B2\"  face=\"verdana\"> <B>Examples</B></font>  "
   ]
  },
  {
   "cell_type": "code",
   "execution_count": null,
   "metadata": {
    "collapsed": false
   },
   "outputs": [],
   "source": [
    "# review and run example using \\n (new line)\n",
    "print('Hello World!\\nI am formatting print ')"
   ]
  },
  {
   "cell_type": "code",
   "execution_count": null,
   "metadata": {
    "collapsed": false
   },
   "outputs": [],
   "source": [
    "# review and run code using \\t (tab)\n",
    "student_age = 17\n",
    "student_name = \"Hiroto Yamaguchi\"\n",
    "print(\"STUDENT NAME\\t\\tAGE\")\n",
    "print(student_name,'\\t' + str(student_age))"
   ]
  },
  {
   "cell_type": "code",
   "execution_count": null,
   "metadata": {
    "collapsed": false
   },
   "outputs": [],
   "source": [
    "# review and run code \n",
    "# using \\\" and \\' (escaped quotes)\n",
    "print(\"\\\"quotes in quotes\\\"\")\n",
    "print(\"I\\'ve said \\\"save your notebook,\\\" so let\\'s do it!\")\n",
    "\n",
    "# using  \\\\ (escaped backslash)\n",
    "print(\"for a newline use \\\\n\")"
   ]
  },
  {
   "cell_type": "markdown",
   "metadata": {},
   "source": [
    "# &nbsp;\n",
    "<font size=\"6\" color=\"#B24C00\"  face=\"verdana\"> <B>Task 1</B></font>  \n",
    "Format using backslash (**`\\`**) escape sequences"
   ]
  },
  {
   "cell_type": "code",
   "execution_count": null,
   "metadata": {
    "collapsed": false
   },
   "outputs": [],
   "source": [
    "# [ ] print \"\\\\\\WARNING!///\"\n",
    "\n"
   ]
  },
  {
   "cell_type": "code",
   "execution_count": null,
   "metadata": {
    "collapsed": false
   },
   "outputs": [],
   "source": [
    "# [ ] print output that is exactly (with quotes): \"What's that?\" isn't a specific question.\n",
    "\n"
   ]
  },
  {
   "cell_type": "code",
   "execution_count": null,
   "metadata": {
    "collapsed": false
   },
   "outputs": [],
   "source": [
    "# [ ] from 1 print statement output the text commented below using no spaces\n",
    "# One     Two     Three\n",
    "# Four    Five    Six\n",
    "\n"
   ]
  },
  {
   "cell_type": "markdown",
   "metadata": {},
   "source": [
    "# &nbsp;\n",
    "<font size=\"6\" color=\"#B24C00\"  face=\"verdana\"> <B>Task 2</B></font>\n",
    "## Program: `pre_word()` Function\n",
    "Function has a single string parameter that it checks s is a single word starting with \"pre\"\n",
    "- Check if word starts with \"pre\"\n",
    "- Check if word .isalpha() \n",
    "- if all checks pass: return **`True`**\n",
    "- if any checks fail: return **`False`**\n",
    "- **Test** \n",
    "  - get input using the directions: *enter a word that starts with \"pre\": *\n",
    "  - call pre_word() with the input string\n",
    "  - test **if** return value is **`False`** and print message explaining not a \"pre\" word \n",
    "  - **else** print message explaining is a valid \"pre\" word"
   ]
  },
  {
   "cell_type": "code",
   "execution_count": null,
   "metadata": {
    "collapsed": false
   },
   "outputs": [],
   "source": [
    "# [ ] create and test pre_word()\n",
    "\n",
    "\n"
   ]
  },
  {
   "cell_type": "markdown",
   "metadata": {},
   "source": [
    "# &nbsp;\n",
    "<font size=\"6\" color=\"#B24C00\"  face=\"verdana\"> <B>Task 5</B></font>\n",
    "## Fix the Errors"
   ]
  },
  {
   "cell_type": "code",
   "execution_count": null,
   "metadata": {
    "collapsed": false
   },
   "outputs": [],
   "source": [
    "# [ ] review, run, fix\n",
    "print(\"Hello\" + \\n + \"World!\")\n",
    "\n"
   ]
  },
  {
   "cell_type": "markdown",
   "metadata": {},
   "source": [
    "[Terms of use](http://go.microsoft.com/fwlink/?LinkID=206977) &nbsp; [Privacy & cookies](https://go.microsoft.com/fwlink/?LinkId=521839) &nbsp; © 2017 Microsoft"
   ]
  }
 ],
 "metadata": {
  "anaconda-cloud": {},
  "kernelspec": {
   "display_name": "Python 3",
   "language": "python",
   "name": "python3"
  },
  "language_info": {
   "codemirror_mode": {
    "name": "ipython",
    "version": 3
   },
   "file_extension": ".py",
   "mimetype": "text/x-python",
   "name": "python",
   "nbconvert_exporter": "python",
   "pygments_lexer": "ipython3",
   "version": "3.5.2"
  }
 },
 "nbformat": 4,
 "nbformat_minor": 1
}
