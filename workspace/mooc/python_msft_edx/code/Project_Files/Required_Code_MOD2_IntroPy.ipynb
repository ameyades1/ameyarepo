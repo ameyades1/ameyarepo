{
 "cells": [
  {
   "cell_type": "markdown",
   "metadata": {
    "collapsed": true
   },
   "source": [
    "#  Module 2 Required Coding Activity  \nIntroduction to Python Unit 1  \n\nThis is an activity based on code similar to the Jupyter Notebook **`Practice_MOD02_1-3_IntroPy.ipynb`** which you may have completed.\n\n> **NOTE:** This program requires a function be **created and called**.  The function call return value must be used in print output.  The function will have parameters and return a string and should otherwise use code syntax covered in module 2.  \n \n## Program: fishstore()\ncreate and test bikestore()\n- **fishstore() takes 2 string arguments: fish & price**\n- **fishstore returns a string in sentence form**  \n- **gather input for fish_entry and price_entry to use in calling fishstore()**\n- **print the return value of fishstore()**\n>example of output: **`Fish Type: Guppy costs $1`**"
   ]
  },
  {
   "cell_type": "code",
   "execution_count": null,
   "metadata": {
    "collapsed": false
   },
   "outputs": [],
   "source": [
    "# [ ] create, call and test bookstore() function \n",
    "# then PASTE THIS CODE into edX"
   ]
  },
  {
   "cell_type": "markdown",
   "metadata": {},
   "source": [
    "[Terms of use](http://go.microsoft.com/fwlink/?LinkID=206977) &nbsp; [Privacy & cookies](https://go.microsoft.com/fwlink/?LinkId=521839) &nbsp; Â© 2017 Microsoft"
   ]
  }
 ],
 "metadata": {
  "kernelspec": {
   "display_name": "Python 3",
   "name": "python3",
   "language": "python"
  },
  "language_info": {
   "mimetype": "text/x-python",
   "nbconvert_exporter": "python",
   "version": "3.5.1",
   "name": "python",
   "file_extension": ".py",
   "pygments_lexer": "ipython3",
   "codemirror_mode": {
    "version": 3.0,
    "name": "ipython"
   }
  }
 },
 "nbformat": 4,
 "nbformat_minor": 0
}